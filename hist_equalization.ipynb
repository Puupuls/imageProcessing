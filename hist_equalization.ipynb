{
 "cells": [
  {
   "cell_type": "code",
   "execution_count": null,
   "id": "initial_id",
   "metadata": {
    "collapsed": true
   },
   "outputs": [],
   "source": [
    "!{sys.executable} -m pip install numpy opencv-python matplotlib"
   ]
  },
  {
   "cell_type": "code",
   "execution_count": null,
   "outputs": [],
   "source": [
    "import cv2\n",
    "from hist_equalization import equalize_histogram_rgb, equalize_histogram_hsv"
   ],
   "metadata": {
    "collapsed": false
   },
   "id": "af695819ee6f4460"
  },
  {
   "cell_type": "code",
   "execution_count": null,
   "outputs": [],
   "source": [
    "img = cv2.imread(\"demo.jpg\")\n",
    "\n",
    "img_filtered = equalize_histogram_rgb(cv2.cvtColor(img, cv2.COLOR_BGR2RGB), True)\n",
    "# cv2.imwrite('demo_result.jpg', cv2.cvtColor(img_filtered, cv2.COLOR_RGB2BGR))\n",
    "\n",
    "img_filtered = equalize_histogram_hsv(cv2.cvtColor(img, cv2.COLOR_BGR2HSV), True)\n",
    "# cv2.imwrite('demo_result.jpg', cv2.cvtColor(img_filtered, cv2.COLOR_HSV2BGR))"
   ],
   "metadata": {
    "collapsed": false
   },
   "id": "44fe605e3b8b402c"
  }
 ],
 "metadata": {
  "kernelspec": {
   "display_name": "Python 3",
   "language": "python",
   "name": "python3"
  },
  "language_info": {
   "codemirror_mode": {
    "name": "ipython",
    "version": 2
   },
   "file_extension": ".py",
   "mimetype": "text/x-python",
   "name": "python",
   "nbconvert_exporter": "python",
   "pygments_lexer": "ipython2",
   "version": "2.7.6"
  }
 },
 "nbformat": 4,
 "nbformat_minor": 5
}
