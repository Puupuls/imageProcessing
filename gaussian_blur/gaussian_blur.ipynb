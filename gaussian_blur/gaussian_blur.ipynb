{
 "cells": [
  {
   "cell_type": "code",
   "execution_count": null,
   "id": "initial_id",
   "metadata": {
    "collapsed": true,
    "is_executing": true
   },
   "outputs": [],
   "source": [
    "!pip install numpy opencv-python matplotlib\n",
    "!wget https://raw.githubusercontent.com/Puupuls/imageProcessing/master/gaussian_blur/demo.jpg\n",
    "!wget https://raw.githubusercontent.com/Puupuls/imageProcessing/master/gaussian_blur/gaussian_blur.py"
   ]
  },
  {
   "cell_type": "code",
   "execution_count": null,
   "outputs": [],
   "source": [
    "import cv2\n",
    "from gaussian_blur import gaussian_blur"
   ],
   "metadata": {
    "collapsed": false,
    "is_executing": true
   },
   "id": "af695819ee6f4460"
  },
  {
   "cell_type": "code",
   "execution_count": null,
   "outputs": [],
   "source": [
    "img = cv2.imread(\"demo.jpg\")\n",
    "img = cv2.resize(img, (600, 400))  # Samazinam attēlu, lai paātrinātu procesu\n",
    "gaussian_blur(cv2.cvtColor(img, cv2.COLOR_BGR2RGB), kernel_size=101, plot=True)"
   ],
   "metadata": {
    "collapsed": false,
    "is_executing": true
   },
   "id": "44fe605e3b8b402c"
  }
 ],
 "metadata": {
  "kernelspec": {
   "display_name": "Python 3",
   "language": "python",
   "name": "python3"
  },
  "language_info": {
   "codemirror_mode": {
    "name": "ipython",
    "version": 2
   },
   "file_extension": ".py",
   "mimetype": "text/x-python",
   "name": "python",
   "nbconvert_exporter": "python",
   "pygments_lexer": "ipython2",
   "version": "2.7.6"
  }
 },
 "nbformat": 4,
 "nbformat_minor": 5
}
